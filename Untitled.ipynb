{
 "cells": [
  {
   "cell_type": "code",
   "execution_count": 18,
   "id": "5dba4565-b6f6-43e9-b2cd-f1f49020cb25",
   "metadata": {},
   "outputs": [
    {
     "name": "stdout",
     "output_type": "stream",
     "text": [
      "true\n"
     ]
    }
   ],
   "source": [
    "import random\n",
    "card_suit = [\"green\",\"blue\",\"red\",\"true\"]\n",
    "random_card_suit = random.choice(card_suit)\n",
    "print(random_card_suit)"
   ]
  },
  {
   "cell_type": "code",
   "execution_count": 38,
   "id": "39b82a1d-42a2-4cf8-a6c0-d28848e0c332",
   "metadata": {},
   "outputs": [
    {
     "name": "stdout",
     "output_type": "stream",
     "text": [
      "queen\n",
      "7\n"
     ]
    }
   ],
   "source": [
    "def pick_a_card() :\n",
    "    card = [\"king\",\"queen\",\"servant\"]\n",
    "    random_card= random.choice(card)\n",
    "    \n",
    "    card_ranks = [1,2,3,4,6,7]\n",
    "    random_rank = random.choice(card_ranks)\n",
    "    print(random_card)\n",
    "    print(random_rank)\n",
    "pick_a_card()\n"
   ]
  },
  {
   "cell_type": "code",
   "execution_count": null,
   "id": "c696c358-b27c-41eb-b40a-950a7fc8b2bb",
   "metadata": {},
   "outputs": [],
   "source": []
  },
  {
   "cell_type": "code",
   "execution_count": null,
   "id": "c105d6af-b668-48d6-b85e-55154b951ee3",
   "metadata": {},
   "outputs": [],
   "source": []
  },
  {
   "cell_type": "code",
   "execution_count": null,
   "id": "fe8f2455-56ee-4eef-a812-ffde9cde5b75",
   "metadata": {},
   "outputs": [],
   "source": []
  }
 ],
 "metadata": {
  "kernelspec": {
   "display_name": "Python 3 (ipykernel)",
   "language": "python",
   "name": "python3"
  },
  "language_info": {
   "codemirror_mode": {
    "name": "ipython",
    "version": 3
   },
   "file_extension": ".py",
   "mimetype": "text/x-python",
   "name": "python",
   "nbconvert_exporter": "python",
   "pygments_lexer": "ipython3",
   "version": "3.7.13"
  }
 },
 "nbformat": 4,
 "nbformat_minor": 5
}
